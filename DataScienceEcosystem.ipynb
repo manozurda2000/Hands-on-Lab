{
 "cells": [
  {
   "cell_type": "markdown",
   "id": "7788fad4-5dc3-4903-9aea-cc015a8e624d",
   "metadata": {
    "tags": []
   },
   "source": [
    "# Data Science Tools and Ecosystem #"
   ]
  },
  {
   "cell_type": "code",
   "execution_count": null,
   "id": "8c1c5027-92e0-4c47-b108-4f1fc30f083b",
   "metadata": {},
   "outputs": [],
   "source": [
    "# Data Science Tools and Ecosystem #"
   ]
  },
  {
   "cell_type": "markdown",
   "id": "ecdf6c68-8b2b-4926-a35f-24acd7f9e2df",
   "metadata": {},
   "source": [
    "***In this notebook, Data Science Tools and Ecosystem are summarized.***"
   ]
  },
  {
   "cell_type": "code",
   "execution_count": null,
   "id": "5dff2af9-d6e1-4a17-8bb3-59478178281e",
   "metadata": {},
   "outputs": [],
   "source": [
    "***In this notebook, Data Science Tools and Ecosystem are summarized.***"
   ]
  },
  {
   "cell_type": "markdown",
   "id": "e487b4d2-05f7-4d41-97fb-07e6d455987a",
   "metadata": {},
   "source": [
    "**Objectives:**\n",
    "+ Popular languages that Data Scientists\n",
    "+ Libraries used by Data Scientists\n",
    "+ Data Science Tools\n",
    "+ Few examples of evaluating arithmetic expressions in Python"
   ]
  },
  {
   "cell_type": "code",
   "execution_count": null,
   "id": "0668f952-2939-4c50-9a04-d0ec814544c3",
   "metadata": {},
   "outputs": [],
   "source": [
    "**Objectives:**\n",
    "+ Popular languages that Data Scientists\n",
    "+ Libraries used by Data Scientists\n",
    "+ Data Science Tools\n",
    "+ Few examples of evaluating arithmetic expressions in Python"
   ]
  },
  {
   "cell_type": "markdown",
   "id": "cbbb656e-44d8-42e5-9cae-2cdf78f73599",
   "metadata": {
    "tags": []
   },
   "source": [
    "### Some of the popular languages that Data Scientists use are: ###\n",
    "1. Python\n",
    "2. Java\n",
    "3. C++\n",
    "4. R"
   ]
  },
  {
   "cell_type": "code",
   "execution_count": null,
   "id": "7794e1c3-d366-40e6-84b2-74e6ad1ad400",
   "metadata": {
    "tags": []
   },
   "outputs": [],
   "source": [
    "### Some of the popular languages that Data Scientists use are: ###\n",
    "1. Python\n",
    "2. Java\n",
    "3. C++\n",
    "4. R"
   ]
  },
  {
   "cell_type": "markdown",
   "id": "e7bb37ae-4046-46f7-8636-be27ad8f5c95",
   "metadata": {
    "tags": []
   },
   "source": [
    "### Some of the commonly used libraries used by Data Scientists include: ###\n",
    "1. Pandas\n",
    "2. Numpy\n",
    "3. Seaborn\n",
    "4. Scikit"
   ]
  },
  {
   "cell_type": "code",
   "execution_count": null,
   "id": "6556ff69-8a92-4f63-b9fe-1bfdcf1bad69",
   "metadata": {
    "tags": []
   },
   "outputs": [],
   "source": [
    "### Some of the commonly used libraries used by Data Scientists include: ###\n",
    "1. Pandas\n",
    "2. Numpy\n",
    "3. Seaborn\n",
    "4. Scikit"
   ]
  },
  {
   "cell_type": "markdown",
   "id": "bfb06b3c-6b3b-4d48-a2fd-cdb46534f1e7",
   "metadata": {},
   "source": [
    "| Data Science Tools |\n",
    "|--------------------| \n",
    "|MySQL|\n",
    "|KubeFlow|\n",
    "|TensorFlow|\n",
    "|Prometheus|\n"
   ]
  },
  {
   "cell_type": "code",
   "execution_count": null,
   "id": "6832f2b7-3566-47f1-a791-561eb8ec6fd1",
   "metadata": {},
   "outputs": [],
   "source": [
    "| Data Science Tools |\n",
    "|--------------------| \n",
    "|MySQL|\n",
    "|KubeFlow|\n",
    "|TensorFlow|\n",
    "|Prometheus|"
   ]
  },
  {
   "cell_type": "markdown",
   "id": "eaef85e5-561d-4da6-a1e3-74ac19c2d470",
   "metadata": {
    "tags": []
   },
   "source": [
    "### Below are a few examples of evaluating arithmetic expressions in Python ###"
   ]
  },
  {
   "cell_type": "code",
   "execution_count": 16,
   "id": "52aab80b-7628-406e-92b6-bf65094200c9",
   "metadata": {
    "tags": []
   },
   "outputs": [],
   "source": [
    "### Below are a few examples of evaluating arithmetic expressions in Python ###"
   ]
  },
  {
   "cell_type": "markdown",
   "id": "f16ae7a4-3899-48da-891c-45f0b0c56590",
   "metadata": {
    "tags": []
   },
   "source": [
    "*This a simple arithmetic expression to mutiply then add integers*"
   ]
  },
  {
   "cell_type": "code",
   "execution_count": 30,
   "id": "ed5fd97f-82eb-4ffe-b1d9-b85f66ccf1c8",
   "metadata": {
    "tags": []
   },
   "outputs": [
    {
     "name": "stdout",
     "output_type": "stream",
     "text": [
      "(3*4)+5=17\n"
     ]
    }
   ],
   "source": [
    "## This a simple arithmetic expression to mutiply then add integers\n",
    "X=(3*4)+5\n",
    "print(\"(3*4)+5=\"+str(X))"
   ]
  },
  {
   "cell_type": "markdown",
   "id": "3d47c41d-0256-44e7-8250-a5b785ed1056",
   "metadata": {},
   "source": [
    "*This will convert 200 minutes to hours by diving by 60*"
   ]
  },
  {
   "cell_type": "code",
   "execution_count": 29,
   "id": "f946d43b-5cb7-4413-9222-e362d39129c0",
   "metadata": {
    "tags": []
   },
   "outputs": [
    {
     "name": "stdout",
     "output_type": "stream",
     "text": [
      "t=200min\n",
      "h=200/60\n",
      "h=3.3333333333333335h\n"
     ]
    }
   ],
   "source": [
    "## This will convert 200 minutes to hours by diving by 60\n",
    "t=200\n",
    "h=t/60\n",
    "print(\"t=\"+str(t)+\"min\")\n",
    "print(\"h=\"+str(t)+\"/60\")\n",
    "print(\"h=\"+str(h)+\"h\")\n"
   ]
  },
  {
   "cell_type": "markdown",
   "id": "447b337c-61f4-47b4-99f4-ca6225d72341",
   "metadata": {},
   "source": [
    "## Author ##\n",
    "*José Alejandro Cerpa Apablaza*"
   ]
  }
 ],
 "metadata": {
  "kernelspec": {
   "display_name": "Python",
   "language": "python",
   "name": "conda-env-python-py"
  },
  "language_info": {
   "codemirror_mode": {
    "name": "ipython",
    "version": 3
   },
   "file_extension": ".py",
   "mimetype": "text/x-python",
   "name": "python",
   "nbconvert_exporter": "python",
   "pygments_lexer": "ipython3",
   "version": "3.7.12"
  }
 },
 "nbformat": 4,
 "nbformat_minor": 5
}
